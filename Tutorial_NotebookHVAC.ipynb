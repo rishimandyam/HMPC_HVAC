{
 "cells": [
  {
   "cell_type": "markdown",
   "id": "6e4804f6",
   "metadata": {},
   "source": [
    "# Heirarchical Model Predictive Control: HVAC Example"
   ]
  },
  {
   "cell_type": "markdown",
   "id": "f277907e",
   "metadata": {},
   "source": []
  },
  {
   "cell_type": "code",
   "execution_count": 1,
   "id": "48150724",
   "metadata": {},
   "outputs": [],
   "source": [
    "using JuMP\n",
    "using Plasmo\n",
    "using Ipopt\n",
    "using Plots"
   ]
  },
  {
   "cell_type": "code",
   "execution_count": 2,
   "id": "cbaf6bc2",
   "metadata": {},
   "outputs": [
    {
     "data": {
      "text/plain": [
       "getNeighboringRooms (generic function with 1 method)"
      ]
     },
     "execution_count": 2,
     "metadata": {},
     "output_type": "execute_result"
    }
   ],
   "source": [
    "# Get Neighboring Rooms\n",
    "# Assume rooms are in a row\n",
    "\n",
    "# returns a list of vectors where the index of the list is the room and the vectors are the neighboring rooms\n",
    "function getNeighboringRooms(room, nrooms)\n",
    "    if room == 1\n",
    "        return [2,0]\n",
    "    elseif room == nrooms\n",
    "        return [nrooms - 1,0]\n",
    "    else\n",
    "        a = [room - 1,room + 1]\n",
    "        return a\n",
    "    end\n",
    "end\n"
   ]
  },
  {
   "cell_type": "code",
   "execution_count": 3,
   "id": "2cd03f2b",
   "metadata": {},
   "outputs": [
    {
     "data": {
      "text/plain": [
       "1"
      ]
     },
     "execution_count": 3,
     "metadata": {},
     "output_type": "execute_result"
    }
   ],
   "source": [
    "# Thermal Dynamics into and between rooms\n",
    "rho_air = 1.225 # kg/m^3\n",
    "V_room = 50 # m^3\n",
    "\n",
    "Ci = rho_air*V_room # mass of room i kg\n",
    "cp = 1012 # heat capacity of air in room (J/kg*K)\n",
    "Ts = 16+273 # temp of supply air (K)\n",
    "Toa = 293 # temp of outside air (K)\n",
    "Rij = .004 # thermal resistance between rooms i and j (K/kW)\n",
    "Rioa = .0057 # thermal resistance between room and outside (K/kW)\n",
    "Pid = 1# disturbance term from weather forecast\n",
    "\n",
    "#Ci*(dTi)=dt*(ui*cp*(Ts−Ti)+∑((Tj−Ti)/Rij+(Toa−Ti)/Rioa)+Pid)"
   ]
  },
  {
   "cell_type": "code",
   "execution_count": 4,
   "id": "ee035aa4",
   "metadata": {},
   "outputs": [
    {
     "name": "stdout",
     "output_type": "stream",
     "text": [
      "1\n"
     ]
    }
   ],
   "source": [
    "function getUnodeIndex(nU, nL, Lnode_Index)\n",
    "    return ceil(Int, Lnode_Index/(nL/nU))\n",
    "end\n",
    "\n",
    "println(getUnodeIndex(2, 6, 1))"
   ]
  },
  {
   "cell_type": "code",
   "execution_count": 5,
   "id": "c014e238",
   "metadata": {},
   "outputs": [
    {
     "name": "stdout",
     "output_type": "stream",
     "text": [
      "1\n"
     ]
    }
   ],
   "source": [
    "function getLnodePosition(nU, nL, Lnode_index)\n",
    "    return Int(Lnode_index/(nL/nU))\n",
    "end\n",
    "\n",
    "println(getLnodePosition(3, 12, 4))"
   ]
  },
  {
   "cell_type": "code",
   "execution_count": 29,
   "id": "db3eb067",
   "metadata": {},
   "outputs": [
    {
     "data": {
      "text/plain": [
       "HMPC_HVAC (generic function with 1 method)"
      ]
     },
     "execution_count": 29,
     "metadata": {},
     "output_type": "execute_result"
    }
   ],
   "source": [
    "function HMPC_HVAC(n_u, n_l, dtu, dtl, num_rooms)\n",
    "# find constraints, objective variables, setpoints,\n",
    "    # Constraints:\n",
    "    Ti = [293, 297] # K\n",
    "    Td_array = zeros(num_rooms)\n",
    "    Td = 296\n",
    "    for i in 1:num_rooms\n",
    "        Td_array[i] = Td\n",
    "    end # desired temp of rooms\n",
    "    ui = 1 # must be within [.005, 5] # kg/s\n",
    "\n",
    "    # Tuning Parameters\n",
    "    c1 = 1\n",
    "    c2 = 2\n",
    "\n",
    "    # Objective variables\n",
    "    # Ti must be within 20 and 24 \n",
    "\n",
    "    # function inputs\n",
    "    n_rooms = num_rooms\n",
    "    N_U = n_u # upper level nodes\n",
    "    N_L = n_l # lower level nodes\n",
    "\n",
    "    # Sampling periods (seconds)\n",
    "    dt_U = dtu\n",
    "    dt_L = dtl\n",
    "\n",
    "    # Time Horizons\n",
    "    horiz_U = 24*60*60 # seconds\n",
    "    horiz_L = 2*60*60 # seconds\n",
    "\n",
    "    HVAC = Model(Ipopt.Optimizer)\n",
    "    graph = OptiGraph()\n",
    "\n",
    "    @optinode(graph, Unodes[1:N_U]) # make N_U upper layer nodes\n",
    "    @optinode(graph, Lnodes[1:N_L]) # make N_L lower layer nodes\n",
    "\n",
    "    # Upper Level Initialization\n",
    "    for (i, Unode) in enumerate(Unodes)\n",
    "\n",
    "        # array belonging to upper layer containing temps of each room in the node\n",
    "        @variable(Unode, T_hat_U_array[1:n_rooms], start = 300)\n",
    "            # row index: room number\n",
    "            # column index: time\n",
    "\n",
    "        # array belonging to upper layer containing airflowrate into each room\n",
    "        @variable(Unode, u_hat_U_array[1:n_rooms], start = 1)\n",
    "            # row index: room number\n",
    "            # column index: time\n",
    "        \n",
    "        #Establish Nonlin Dummy Var\n",
    "        @variable(Unode, uT_U_array[1:n_rooms])\n",
    "        \n",
    "        for (j, uVal) in enumerate(Unode[:uT_U_array])\n",
    "            @NLconstraint(Unode, uVal == u_hat_U_array[j]*cp*(Ts - T_hat_U_array[j]))\n",
    "        end\n",
    "        \n",
    "        @objective(Unode, Min, sum(.01*(T_hat_U_array .- Td).^2 .+ 100*(u_hat_U_array).^2))\n",
    "    end\n",
    "\n",
    "    # Lower Level Initailization\n",
    "    for (i, Lnode) in enumerate(Lnodes)\n",
    "        @variable(Lnode, 293 <= T_hat_L_array[1:n_rooms] <= 297, start = 295) # temp of each room\n",
    "        @variable(Lnode, .005 <= u_hat_L_array[1:n_rooms] <= 5, start = 1) # airflowrate of each room\n",
    "        \n",
    "        #Establish Nonlin Dummy Var\n",
    "        @variable(Lnode, uT_L_array[1:n_rooms])\n",
    "        \n",
    "        for (j, lVal) in enumerate(Lnode[:uT_L_array])\n",
    "            @NLconstraint(Lnode, lVal == u_hat_L_array[j]*cp*(Ts - T_hat_L_array[j]))\n",
    "        end\n",
    "        \n",
    "        @variable(Lnode, T_0_LVal_array[1:n_rooms], start = 295) # T_0 vals belonging to Lnodes\n",
    "\n",
    "    end\n",
    "    \n",
    "\n",
    "    # Link Constraints between Unodes\n",
    "    for Unode_Index in 1:(length(Unodes))\n",
    "        for (room_num, T_room_num) in enumerate(Unodes[Unode_Index][:T_hat_U_array][:,1]) # only use temps of rooms at earliest time\n",
    "            if Unode_Index <= length(Unodes) - 1\n",
    "                if room_num == 1 # if in the first room\n",
    "                    Tj = Unodes[Unode_Index][:T_hat_U_array][room_num + 1, 1] # establish neighboring room\n",
    "                    @linkconstraint(graph, Unodes[Unode_Index + 1][:T_hat_U_array][room_num] == \n",
    "                        dt_U/Ci*(Unodes[Unode_Index][:uT_U_array][room_num] + ((Tj − T_room_num)/Rij + (Toa − T_room_num)/Rioa) + Pid) + \n",
    "                        (Unodes[Unode_Index][:T_hat_U_array][room_num])) # relationship between room temps\n",
    "\n",
    "                elseif room_num == n_rooms # if in the last last room\n",
    "                    Tj = Unodes[Unode_Index][:T_hat_U_array][room_num - 1, 1]\n",
    "                    @linkconstraint(graph, (Unodes[Unode_Index + 1][:T_hat_U_array][room_num]) == \n",
    "                        dt_U/Ci*(Unodes[Unode_Index][:uT_U_array][room_num] + ((Tj − T_room_num)/Rij + (Toa − T_room_num)/Rioa) + Pid) + \n",
    "                        (Unodes[Unode_Index][:T_hat_U_array][room_num])) # relationship between room temps\n",
    "\n",
    "                else # if in a room surrounded by 2 rooms\n",
    "                    Tj1 = Unodes[Unode_Index][:T_hat_U_array][room_num - 1, 1]\n",
    "                    Tj2 = Unodes[Unode_Index][:T_hat_U_array][room_num + 1, 1]\n",
    "                    @linkconstraint(graph, (Unodes[Unode_Index + 1][:T_hat_U_array][room_num]) == \n",
    "                        dt_U/Ci*(Unodes[Unode_Index][:uT_U_array][room_num] + ((Tj1 − T_room_num)/Rij + (Tj2 − T_room_num)/Rij + (Toa − T_room_num)/Rioa) + Pid) + \n",
    "                        (Unodes[Unode_Index][:T_hat_U_array][room_num])) # relationship between room temps\n",
    "                end\n",
    "            end\n",
    "        end\n",
    "        @objective(Unodes[Unode_Index], Min, \n",
    "            (0.01*(sum((Unodes[Unode_Index][:T_hat_U_array][i, 1] − Td_array[i]).^2 for i in (1:n_rooms))) \n",
    "            + (100*sum(Unodes[Unode_Index][:u_hat_U_array]).^2)).*dt_U)\n",
    "        # 0.01∥T^u(s;tuk)−Td∥2+100∥u^(s;tk)∥2\n",
    "    end\n",
    "\n",
    "\n",
    "\n",
    "    # Link Constraints between Unodes and Lnodes\n",
    "    for i in range(1,N_U) # loop through each U node\n",
    "        for j in range(1,Int(N_L/N_U)) # loops through index of each subordinate Lnode at a time\n",
    "            Lnode_Index = Int(j + N_L*(i - 1)/N_U)\n",
    "\n",
    "            #create link constraint between them\n",
    "            for room_index in range(1, n_rooms) # add a link constraint for each room\n",
    "\n",
    "                # represent the room of the specific Lnode that the Unode i will link to \n",
    "                T_hat_l_room = Lnodes[Lnode_Index][:T_hat_L_array][room_index]\n",
    "\n",
    "                # represent the upper layer temp solution for the lower layer\n",
    "                T_0 = Unodes[i][:T_hat_U_array][room_index]\n",
    "                \n",
    "                # Makes T0 values the same between Unodes and Lnodes\n",
    "                @linkconstraint(graph, T_0 == Lnodes[Lnode_Index][:T_0_LVal_array][room_index])\n",
    "                \n",
    "                @linkconstraint(graph, (T_hat_l_room) == 1/Ci*(ui*cp*(Ts − T_hat_l_room) \n",
    "                    + ((T_0 − T_hat_l_room)/Rij + (Toa − T_hat_l_room)/Rioa) + Pid))\n",
    "            end\n",
    "        end\n",
    "    end\n",
    "\n",
    "\n",
    "    # Link Constraints Between Lnodes\n",
    "    for Lnode_Index in 1:(length(Lnodes)) # iterate through all Lnodes except for last\n",
    "        \n",
    "        for (room_num, T_room_num) in enumerate(Lnodes[Lnode_Index][:T_hat_L_array]) # iterate through each room\n",
    "            if Lnode_Index <= length(Lnodes) - 1\n",
    "            \n",
    "                if room_num == 1 # if in the first room\n",
    "                    Tj = Lnodes[Lnode_Index][:T_hat_L_array][room_num + 1] # establish neighboring room\n",
    "                    @linkconstraint(graph, Lnodes[Lnode_Index + 1][:T_hat_L_array][room_num] == \n",
    "                        dt_L/Ci*(Lnodes[Lnode_Index][:uT_L_array][room_num] + ((Tj − T_room_num)/Rij + (Toa − T_room_num)/Rioa) + Pid) + \n",
    "                        (Lnodes[Lnode_Index][:T_hat_L_array][room_num])) # relationship between room temps\n",
    "\n",
    "                elseif room_num == n_rooms # if in the last last room\n",
    "                    Tj = Lnodes[Lnode_Index][:T_hat_L_array][room_num - 1]\n",
    "                    @linkconstraint(graph, (Lnodes[Lnode_Index + 1][:T_hat_L_array][room_num]) == \n",
    "                        dt_L/Ci*(Lnodes[Lnode_Index][:uT_L_array][room_num] + ((Tj − T_room_num)/Rij + (Toa − T_room_num)/Rioa) + Pid) + \n",
    "                        (Lnodes[Lnode_Index][:T_hat_L_array][room_num])) # relationship between room temps\n",
    "\n",
    "                else # if in a room surrounded by 2 rooms\n",
    "                    Tj1 = Lnodes[Lnode_Index][:T_hat_L_array][room_num - 1]\n",
    "                    Tj2 = Lnodes[Lnode_Index][:T_hat_L_array][room_num + 1]\n",
    "                    @linkconstraint(graph, (Lnodes[Lnode_Index + 1][:T_hat_L_array][room_num]) == \n",
    "                        dt_L/Ci*(Lnodes[Lnode_Index][:uT_L_array][room_num] + ((Tj1 − T_room_num)/Rij + (Tj2 − T_room_num)/Rij + (Toa − T_room_num)/Rioa) + Pid) + \n",
    "                        (Lnodes[Lnode_Index][:T_hat_L_array][room_num])) # relationship between room temps\n",
    "                end\n",
    "            end\n",
    "        end\n",
    "        \n",
    "        @objective(Lnodes[Lnode_Index], Min, \n",
    "            (c1.*sum(Lnodes[Lnode_Index][:T_hat_L_array] − Td_array).^2 + sum(Lnodes[Lnode_Index][:u_hat_L_array])^2)\n",
    "             + c2.*sum(((Lnodes[Lnode_Index][:T_hat_L_array] − \n",
    "                    Lnodes[Lnode_Index][:T_0_LVal_array][:]).^2).*dt_L ))\n",
    "        \n",
    "    end\n",
    "\n",
    "    # Set Optimizer\n",
    "    set_optimizer(graph, Ipopt.Optimizer);\n",
    "    set_optimizer_attribute(graph, \"max_iter\", 100);\n",
    "    # Call the optimizer\n",
    "    optimize!(graph);\n",
    "    \n",
    "    return graph, Unodes, Lnodes\n",
    "    \n",
    "end\n"
   ]
  },
  {
   "cell_type": "code",
   "execution_count": 31,
   "id": "69d81f83",
   "metadata": {
    "scrolled": false
   },
   "outputs": [
    {
     "name": "stdout",
     "output_type": "stream",
     "text": [
      "This is Ipopt version 3.14.13, running with linear solver MUMPS 5.6.1.\n",
      "\n",
      "Number of nonzeros in equality constraint Jacobian...:      144\n",
      "Number of nonzeros in inequality constraint Jacobian.:        0\n",
      "Number of nonzeros in Lagrangian Hessian.............:      118\n",
      "\n",
      "Total number of variables............................:       60\n",
      "                     variables with only lower bounds:        0\n",
      "                variables with lower and upper bounds:       24\n",
      "                     variables with only upper bounds:        0\n",
      "Total number of equality constraints.................:       52\n",
      "Total number of inequality constraints...............:        0\n",
      "        inequality constraints with only lower bounds:        0\n",
      "   inequality constraints with lower and upper bounds:        0\n",
      "        inequality constraints with only upper bounds:        0\n",
      "\n",
      "iter    objective    inf_pr   inf_du lg(mu)  ||d||  lg(rg) alpha_du alpha_pr  ls\n",
      "   0  4.0512000e+03 1.11e+04 1.38e-01  -1.0 0.00e+00    -  0.00e+00 0.00e+00   0\n",
      "   1  3.4483757e+03 9.77e+03 3.36e-01  -1.0 2.43e+03  -4.0 1.11e-01 1.25e-01f  1\n",
      "   2  3.3549789e+03 9.73e+03 1.60e+02  -1.0 9.80e+03  -4.5 3.62e-01 3.96e-03f  1\n",
      "   3  7.4519202e+03 1.07e+04 3.66e+02  -1.0 1.53e+04  -5.0 7.64e-01 1.63e-01h  1\n",
      "   4  1.8460735e+05 9.66e+04 3.90e+03  -1.0 1.28e+04  -5.4 1.00e+00 9.85e-01h  1\n",
      "   5  1.8605743e+05 3.05e+04 1.23e+03  -1.0 6.58e+02  -5.9 1.00e+00 6.80e-01h  1\n",
      "   6  1.8608293e+05 2.98e+04 1.40e+03  -1.0 2.19e+02  -6.4 1.00e+00 2.12e-02h  1\n",
      "   7  1.8608255e+05 2.98e+04 1.81e+06  -1.0 7.91e+02  -6.9 1.00e+00 8.28e-04h  1\n",
      "   8  1.8607601e+05 2.96e+04 8.22e+06  -1.0 7.20e+02  -7.3 2.28e-02 4.96e-03h  1\n",
      "   9  1.8607596e+05 2.96e+04 8.80e+08  -1.0 8.21e+02  -7.8 1.84e-02 3.02e-05h  1\n",
      "iter    objective    inf_pr   inf_du lg(mu)  ||d||  lg(rg) alpha_du alpha_pr  ls\n",
      "  10  1.8607593e+05 2.96e+04 5.69e+09  -1.0 5.33e+13    -  2.07e-04 3.19e-05h  1\n",
      "  11r 1.8607593e+05 2.96e+04 1.00e+03   2.4 0.00e+00    -  0.00e+00 3.49e-07R  4\n",
      "  12r 1.8609359e+05 4.17e+03 3.20e+04   2.4 2.87e+07    -  8.18e-03 9.97e-04f  1\n",
      "  13  1.8618346e+05 4.05e+03 3.95e+02  -1.0 1.03e+07    -  1.00e+00 3.18e-02h  1\n",
      "  14  1.8618365e+05 4.04e+03 1.33e+05  -1.0 3.27e+03  -8.3 1.00e+00 3.49e-03h  1\n",
      "  15  1.8616351e+05 3.97e+03 7.08e+06  -1.0 3.93e+03  -8.8 1.00e+00 2.04e-02h  1\n",
      "  16  1.8616335e+05 3.97e+03 2.44e+10  -1.0 1.76e+05  -9.2 8.84e-01 1.59e-04h  1\n",
      "  17r 1.8616335e+05 3.97e+03 1.00e+03   1.6 0.00e+00  -9.7 0.00e+00 3.67e-07R  3\n",
      "  18r 1.8620611e+05 3.16e+02 1.61e+04   1.6 9.22e+07    -  1.33e-01 9.90e-04f  1\n",
      "  19  1.8621839e+05 3.16e+02 3.07e+03  -1.0 1.80e+07    -  1.00e+00 3.95e-03h  1\n",
      "iter    objective    inf_pr   inf_du lg(mu)  ||d||  lg(rg) alpha_du alpha_pr  ls\n",
      "  20  1.8621779e+05 3.15e+02 3.03e+06  -1.0 3.41e+03 -10.2 1.00e+00 1.06e-03h  1\n",
      "  21  1.8621550e+05 3.14e+02 8.51e+08  -1.0 3.08e+03 -10.7 1.00e+00 2.21e-03h  1\n",
      "  22  1.8621510e+05 3.14e+02 9.83e+11  -1.0 3.10e+03 -11.2 1.00e+00 3.90e-04h  1\n",
      "  23  1.8638417e+05 3.29e+02 1.11e+10  -1.0 3.03e+03 -11.6 9.90e-01 1.36e-01h  1\n",
      "  24  1.8638402e+05 3.47e+02 1.11e+10  -1.0 2.83e+11    -  1.22e-04 1.22e-04s  9\n",
      "  25r 1.8638402e+05 3.47e+02 1.00e+03   0.5 0.00e+00 -12.1 0.00e+00 0.00e+00R  1\n",
      "  26r 1.8670101e+05 6.01e+02 6.63e+04   0.5 7.09e+08    -  1.00e+00 9.90e-04f  1\n",
      "  27r 1.8746831e+05 3.00e+03 1.84e+03   0.5 1.65e+06    -  1.00e+00 9.72e-01f  1\n",
      "  28r 1.8748702e+05 1.57e+01 1.66e-01   0.5 2.63e+04    -  1.00e+00 1.00e+00f  1\n",
      "  29  1.8748015e+05 1.56e+01 2.07e+03  -1.0 1.16e+04 -12.6 9.82e-01 2.71e-03f  3\n",
      "iter    objective    inf_pr   inf_du lg(mu)  ||d||  lg(rg) alpha_du alpha_pr  ls\n",
      "  30  1.8747044e+05 1.54e+01 1.48e+05  -1.0 2.40e+03 -13.1 1.00e+00 1.38e-02h  1\n",
      "  31  1.8746606e+05 1.54e+01 3.60e+07  -1.0 1.05e+03 -13.5 1.00e+00 2.07e-03h  2\n",
      "  32  1.8746547e+05 1.54e+01 1.58e+10  -1.0 4.40e+07    -  1.00e+00 2.83e-04h  4\n",
      "  33  1.8746519e+05 1.54e+01 7.60e+12  -1.0 4.30e+10    -  1.00e+00 1.29e-04h  5\n",
      "  34  1.8746416e+05 1.94e+04 7.59e+12  -1.0 1.39e+13    -  4.72e-04 4.72e-04s 11\n",
      "  35  2.2461272e+06 3.39e+11 4.30e+12  -1.0 7.38e+17    -  4.34e-01 4.34e-01s 11\n",
      "  36  2.2461232e+06 3.38e+11 4.29e+12  -1.0 6.47e+15    -  1.14e-03 1.14e-03s 11\n",
      "  37  2.2461232e+06 3.36e+11 4.26e+12  -1.0 2.80e+14    -  8.34e-03 8.34e-03s 11\n",
      "  38r 2.2461232e+06 3.36e+11 1.00e+03   9.5 0.00e+00    -  0.00e+00 0.00e+00R  1\n",
      "  39r-1.0995094e+12 3.36e+11 5.08e+10   9.5 7.14e+19    -  3.07e-01 3.28e-07f  3\n",
      "iter    objective    inf_pr   inf_du lg(mu)  ||d||  lg(rg) alpha_du alpha_pr  ls\n",
      "  40r-1.0995094e+12 3.37e+11 5.08e+08   6.0 2.05e+18    -  9.90e-01 7.63e-06f 18\n",
      "  41r 1.0995139e+12 3.37e+11 4.84e+06   6.0 1.00e+20    -  9.91e-01 5.95e-08f 25\n",
      "  42r 1.0995139e+12 3.38e+11 8.39e+04   6.0 8.91e+19    -  1.00e+00 5.65e-08f 25\n",
      "  43r-2.1990210e+12 3.38e+11 8.54e+04   6.0 7.92e+19    -  1.00e+00 5.68e-08f 25\n",
      "  44r 2.2559363e+06 3.38e+11 8.50e+04   6.0 7.04e+19    -  1.00e+00 2.85e-08f 26\n",
      "  45r-1.0995094e+12 3.38e+11 8.49e+04   6.0 6.25e+19    -  1.00e+00 2.86e-08f 26\n",
      "  46r 1.0995139e+12 3.38e+11 8.49e+04   6.0 5.55e+19    -  1.00e+00 2.88e-08f 26\n",
      "  47r 2.2559384e+06 3.38e+11 8.49e+04   6.0 4.92e+19    -  1.00e+00 2.89e-08f 26\n",
      "  48r 1.0995139e+12 3.38e+11 8.49e+04   6.0 4.37e+19    -  1.00e+00 1.45e-08f 27\n",
      "  49r 2.2559391e+06 3.38e+11 8.48e+04   6.0 3.87e+19    -  1.00e+00 1.45e-08f 27\n",
      "iter    objective    inf_pr   inf_du lg(mu)  ||d||  lg(rg) alpha_du alpha_pr  ls\n",
      "  50r 8.9531561e+19 7.18e+21 1.19e+05   6.0 3.44e+19    -  1.00e+00 9.75e-01w  1\n",
      "  51r 3.4497573e+19 2.76e+21 4.49e+04   6.0 1.63e+19    -  1.00e+00 7.60e-01w  1\n",
      "  52r 7.7957310e+18 6.92e+20 8.86e+03   6.0 8.98e+18    -  1.00e+00 9.90e-01w  1\n",
      "  53r 2.2559394e+06 3.38e+11 8.48e+04   6.0 2.99e+18    -  1.00e+00 7.27e-09f 27\n",
      "  54r 2.2559395e+06 3.38e+11 8.48e+04   6.0 3.05e+19    -  1.00e+00 3.64e-09f 29\n",
      "  55r 2.2559396e+06 3.38e+11 8.48e+04   6.0 2.71e+19    -  1.00e+00 3.65e-09f 29\n",
      "  56r 2.2559397e+06 3.38e+11 8.47e+04   6.0 2.41e+19    -  1.00e+00 3.65e-09f 29\n",
      "  57r 1.0995139e+12 3.38e+11 8.47e+04   6.0 2.15e+19    -  1.00e+00 1.83e-09f 30\n",
      "  58r 1.0995139e+12 3.38e+11 8.47e+04   6.0 1.91e+19    -  1.00e+00 4.57e-10f 32\n",
      "  59r 2.2559398e+06 3.38e+11 8.47e+04   6.0 1.71e+19    -  1.00e+00 1.14e-10f 34\n",
      "iter    objective    inf_pr   inf_du lg(mu)  ||d||  lg(rg) alpha_du alpha_pr  ls\n",
      "  60r 2.2559398e+06 3.38e+11 8.46e+04   6.0 1.52e+19    -  1.00e+00 2.29e-10f 33\n",
      "  61r 2.2559398e+06 3.38e+11 8.46e+04   6.0 1.36e+19    -  1.00e+00 1.14e-10f 34\n",
      "  62r 2.2559398e+06 3.38e+11 8.46e+04   6.0 1.22e+19    -  1.00e+00 1.15e-10f 34\n",
      "  63r 1.2686640e+19 7.38e+20 3.26e+05   6.0 1.09e+19    -  1.00e+00 9.84e-01w  1\n",
      "  64r 3.8519851e+18 2.23e+20 8.04e+04   6.0 4.85e+18    -  1.00e+00 9.01e-01w  1\n",
      "  65r 1.7516188e+18 3.92e+19 3.58e+03   6.0 1.07e+18    -  1.00e+00 9.90e-01w  1\n",
      "  66r 2.2559398e+06 3.38e+11 8.46e+04   6.0 4.68e+17    -  0.00e+00 2.29e-10R 32\n",
      "  67r 2.2560024e+06 3.40e+11 6.83e+03   6.0 2.10e+16    -  1.00e+00 9.67e-04f 11\n",
      "  68r 1.0995139e+12 3.42e+11 1.15e+04   6.0 2.06e+16    -  1.00e+00 9.67e-04f 11\n",
      "  69r 1.0995139e+12 3.42e+11 1.10e+04   6.0 2.05e+16    -  1.00e+00 2.42e-04f 13\n",
      "iter    objective    inf_pr   inf_du lg(mu)  ||d||  lg(rg) alpha_du alpha_pr  ls\n",
      "  70r-1.0995094e+12 3.42e+11 1.10e+04   6.0 2.05e+16    -  1.00e+00 2.42e-04f 13\n",
      "  71r 1.0995139e+12 3.42e+11 1.10e+04   6.0 2.05e+16    -  1.00e+00 1.21e-04f 14\n",
      "  72r 1.0995139e+12 3.42e+11 1.10e+04   6.0 2.05e+16    -  1.00e+00 1.21e-04f 14\n",
      "  73r 2.2561063e+06 3.42e+11 1.10e+04   6.0 2.05e+16    -  1.00e+00 6.04e-05f 15\n",
      "  74r-1.0995094e+12 3.42e+11 1.10e+04   6.0 2.05e+16    -  1.00e+00 6.04e-05f 15\n",
      "  75r 1.0995139e+12 3.42e+11 1.10e+04   6.0 2.05e+16    -  1.00e+00 3.02e-05f 16\n",
      "  76r 1.0995139e+12 3.42e+11 1.10e+04   6.0 2.05e+16    -  1.00e+00 3.02e-05f 16\n",
      "  77r 8.1363863e+13 2.62e+15 2.74e+03   6.0 2.05e+16    -  1.00e+00 9.90e-01w  1\n",
      "  78r 7.8065328e+13 2.60e+13 1.23e+01   6.0 2.19e+15    -  1.00e+00 9.90e-01w  1\n",
      "  79r 7.9164840e+13 1.79e+11 9.65e+00   6.0 2.07e+13    -  1.00e+00 9.93e-01w  1\n",
      "iter    objective    inf_pr   inf_du lg(mu)  ||d||  lg(rg) alpha_du alpha_pr  ls\n",
      "  80r 7.9164840e+13 1.49e+04 9.65e+00   6.0 1.42e+11    -  1.00e+00 1.00e+00f  1\n",
      "  81r 7.8065328e+13 3.78e+09 1.08e+04   1.8 8.42e+13    -  9.58e-01 2.26e-01f  3\n",
      "  82r 7.9164840e+13 4.29e+09 1.05e+04   1.8 1.22e+16    -  5.76e-01 1.73e-03f 10\n",
      "  83r 7.9164840e+13 4.72e+09 9.00e+03   1.8 2.11e+16    -  7.91e-01 9.22e-04f 11\n",
      "  84r 8.0264351e+13 5.22e+09 7.92e+03   1.8 8.76e+16    -  6.22e-01 2.38e-04f 13\n",
      "  85r 8.0264351e+13 8.19e+03 3.27e+03   1.8 4.86e+02   0.0 7.13e-01 1.00e+00f  1\n",
      "  86r 2.9686816e+13 1.69e+09 4.81e+03   1.8 4.93e+17    -  2.51e-01 1.59e-04f 13\n",
      "  87r 2.3145288e+06 3.93e+09 7.80e+03   1.8 6.90e+17    -  9.24e-01 1.31e-04f 13\n",
      "  88r 1.0995139e+12 4.53e+09 6.61e+03   1.8 4.25e+17    -  5.36e-01 1.10e-04f 14\n",
      "  89r 7.6965837e+12 5.17e+09 5.00e+03   1.8 4.16e+17    -  1.00e+00 1.16e-04f 14\n",
      "iter    objective    inf_pr   inf_du lg(mu)  ||d||  lg(rg) alpha_du alpha_pr  ls\n",
      "  90r 1.2094630e+13 5.29e+09 4.22e+03   1.8 3.55e+17    -  5.21e-01 5.90e-05f 15\n",
      "  91r 2.0890723e+13 5.44e+09 2.72e+03   1.8 3.88e+17    -  1.00e+00 5.92e-05f 15\n",
      "  92r 2.7487793e+13 5.54e+09 1.97e+03   1.8 3.29e+17    -  5.51e-01 5.93e-05f 15\n",
      "  93r 3.2985351e+13 5.55e+09 1.12e+03   1.8 3.78e+17    -  1.00e+00 1.49e-05f 17\n",
      "  94r 3.6283886e+13 5.56e+09 1.33e+03   1.8 2.51e+17    -  6.50e-01 2.98e-05f 16\n",
      "  95r 3.5184374e+13 5.57e+09 3.88e+03   1.8 7.31e+17    -  1.00e+00 2.14e-06f 19\n",
      "  96r 3.5184374e+13 9.33e+08 6.13e+02   1.8 3.63e+02  -0.5 6.22e-01 8.32e-01f  1\n",
      "  97r 3.5184374e+13 1.11e+08 6.63e+02   1.8 1.06e+02  -1.0 1.00e+00 8.81e-01f  1\n",
      "  98r 3.5184374e+13 3.27e+07 3.16e+03   1.8 1.02e+02  -1.4 1.00e+00 7.04e-01f  1\n",
      "  99r 3.5184374e+13 9.87e+06 9.34e+03   1.8 5.14e+02  -1.9 1.00e+00 6.99e-01f  1\n",
      "iter    objective    inf_pr   inf_du lg(mu)  ||d||  lg(rg) alpha_du alpha_pr  ls\n",
      " 100r 3.5184374e+13 4.53e+05 8.92e+03   1.8 1.50e+03  -2.4 1.00e+00 9.54e-01f  1\n",
      "\n",
      "Number of Iterations....: 100\n",
      "\n",
      "                                   (scaled)                 (unscaled)\n",
      "Objective...............:   1.7592187186018926e+12    3.5184374372037852e+13\n",
      "Dual infeasibility......:   1.3423097700000035e+07    2.6846195400000072e+08\n",
      "Constraint violation....:   4.0675530003593244e+03    4.5280000000000000e+05\n",
      "Variable bound violation:   0.0000000000000000e+00    0.0000000000000000e+00\n",
      "Complementarity.........:   9.7643429689645600e+01    1.9528685937929120e+03\n",
      "Overall NLP error.......:   2.1000121928217399e+05    2.6846195400000072e+08\n",
      "\n",
      "\n",
      "Number of objective function evaluations             = 145\n",
      "Number of objective gradient evaluations             = 38\n",
      "Number of equality constraint evaluations            = 1133\n",
      "Number of inequality constraint evaluations          = 0\n",
      "Number of equality constraint Jacobian evaluations   = 106\n",
      "Number of inequality constraint Jacobian evaluations = 0\n",
      "Number of Lagrangian Hessian evaluations             = 100\n",
      "Total seconds in IPOPT                               = 0.211\n",
      "\n",
      "EXIT: Maximum Number of Iterations Exceeded.\n"
     ]
    },
    {
     "name": "stdout",
     "output_type": "stream",
     "text": [
      "OptiNode[OptiNode w/ 8 Variable(s) and 2 Constraint(s), OptiNode w/ 8 Variable(s) and 2 Constraint(s), OptiNode w/ 8 Variable(s) and 2 Constraint(s), OptiNode w/ 8 Variable(s) and 2 Constraint(s), OptiNode w/ 8 Variable(s) and 2 Constraint(s), OptiNode w/ 8 Variable(s) and 2 Constraint(s)]\n"
     ]
    }
   ],
   "source": [
    "graph, Unodes, Lnodes = HMPC_HVAC(2, 6, 5, 1, 2)\n",
    "#   HMPC_HVAC(n_u, n_l, dtu, dtl, num_rooms)\n",
    "println(Lnodes)"
   ]
  },
  {
   "cell_type": "code",
   "execution_count": 8,
   "id": "4c901a6b",
   "metadata": {},
   "outputs": [
    {
     "ename": "LoadError",
     "evalue": "UndefVarError: `Lnodes` not defined",
     "output_type": "error",
     "traceback": [
      "UndefVarError: `Lnodes` not defined",
      "",
      "Stacktrace:",
      " [1] top-level scope",
      "   @ In[8]:3"
     ]
    }
   ],
   "source": [
    "# get temp graph for a room \n",
    "room_num = 1\n",
    "temp_array = zeros(length(Lnodes))\n",
    "for (i, Lnode) in enumerate(Lnodes)\n",
    "    temp_array[i] = value(Lnode[:T_hat_l_array][room_num])\n",
    "end"
   ]
  },
  {
   "cell_type": "code",
   "execution_count": 9,
   "id": "3b2e8abd",
   "metadata": {
    "scrolled": true
   },
   "outputs": [
    {
     "ename": "LoadError",
     "evalue": "UndefVarError: `graph` not defined",
     "output_type": "error",
     "traceback": [
      "UndefVarError: `graph` not defined",
      "",
      "Stacktrace:",
      " [1] top-level scope",
      "   @ In[9]:3"
     ]
    }
   ],
   "source": [
    "using PlasmoPlots\n",
    "\n",
    "plt_graph = layout_plot(graph,\n",
    "                        node_labels=true,\n",
    "                        markersize=20,\n",
    "                        labelsize=4,\n",
    "                        linewidth=2,\n",
    "                        layout_options=Dict(:tol=>.01,\n",
    "                                            :iterations=>100),\n",
    "                        plt_options=Dict(:legend=>false,\n",
    "                                         :framestyle=>:box,\n",
    "                                         :grid=>false,\n",
    "                                         :size=>(800,800),\n",
    "                                         :axis => nothing))"
   ]
  },
  {
   "cell_type": "code",
   "execution_count": 10,
   "id": "ae0fa334",
   "metadata": {},
   "outputs": [
    {
     "ename": "LoadError",
     "evalue": "UndefVarError: `Lnodes` not defined",
     "output_type": "error",
     "traceback": [
      "UndefVarError: `Lnodes` not defined",
      "",
      "Stacktrace:",
      " [1] top-level scope",
      "   @ In[10]:4"
     ]
    }
   ],
   "source": [
    "\n",
    "N = 8\n",
    "\n",
    "Tr1Arr = zeros(length(Lnodes))\n",
    "Tr2Arr = zeros(length(Lnodes))\n",
    "\n",
    "\n",
    "for (i, Lnode)  in enumerate(Lnodes)\n",
    "    Tr1Arr[i] = value(Lnode[:T_hat_L_array][1])\n",
    "    Tr2Arr[i] = value(Lnode[:u_hat_L_array][2])\n",
    "end\n",
    "\n",
    "xarray = Array{Array}(undef, 2)\n",
    "xarray[2] = 0:10/(N-1):10\n",
    "\n",
    "yarray = Array{Array}(undef, 2)\n",
    "yarray[2] = 0:10/(N-1):10\n",
    "\n",
    "zarray = Array{Array}(undef, 2)\n",
    "zarray[2] = 0:10/(N-1):10\n",
    "\n",
    "\n",
    "# Try this with more itterations"
   ]
  },
  {
   "cell_type": "code",
   "execution_count": 11,
   "id": "22e2bf5a",
   "metadata": {},
   "outputs": [
    {
     "ename": "LoadError",
     "evalue": "UndefVarError: `Tr1Arr` not defined",
     "output_type": "error",
     "traceback": [
      "UndefVarError: `Tr1Arr` not defined",
      "",
      "Stacktrace:",
      " [1] top-level scope",
      "   @ In[11]:1"
     ]
    }
   ],
   "source": [
    "plot((1:length(Tr1Arr)), Tr1Arr, title = \"Temp of room 1 over time\", xlabel = \"Node (N)\", ylabel = \"Temperature (K)\", label = [\"Temperature of Room 1\" \"X Setpoint\"])"
   ]
  },
  {
   "cell_type": "markdown",
   "id": "007d2b30",
   "metadata": {},
   "source": [
    "# LNode_Index Breakdown"
   ]
  },
  {
   "cell_type": "code",
   "execution_count": 12,
   "id": "272adc2d",
   "metadata": {},
   "outputs": [
    {
     "name": "stdout",
     "output_type": "stream",
     "text": [
      "\n",
      "1 Unode\n",
      "1 2 3 4 5 \n",
      "2 Unode\n",
      "6 7 8 9 10 \n",
      "3 Unode\n",
      "11 12 13 14 15 \n",
      "4 Unode\n",
      "16 17 18 19 20 \n",
      "5 Unode\n",
      "21 22 23 24 25 "
     ]
    }
   ],
   "source": [
    "\n",
    "N_U = 5 # number of Unodes\n",
    "N_L = 25 # Number of Lnodes\n",
    "\n",
    "for i in range(1,N_U) # loop through each U \n",
    "    println()\n",
    "    print(i, \" Unode\")\n",
    "    println()\n",
    "        for j in range(1, Int(N_L/N_U)) # loop through 4 Lnodes at a time\n",
    "            Lnode_Index = floor(Int, j + N_L*(i - 1)/N_U)\n",
    "            print(Lnode_Index, \" \")\n",
    "    end\n",
    "end"
   ]
  },
  {
   "cell_type": "code",
   "execution_count": null,
   "id": "a7ab4852",
   "metadata": {},
   "outputs": [],
   "source": []
  }
 ],
 "metadata": {
  "kernelspec": {
   "display_name": "Julia 1.9.2",
   "language": "julia",
   "name": "julia-1.9"
  },
  "language_info": {
   "file_extension": ".jl",
   "mimetype": "application/julia",
   "name": "julia",
   "version": "1.9.2"
  }
 },
 "nbformat": 4,
 "nbformat_minor": 5
}
