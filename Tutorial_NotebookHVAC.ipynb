{
 "cells": [
  {
   "cell_type": "markdown",
   "id": "6e4804f6",
   "metadata": {},
   "source": [
    "# Heirarchical Model Predictive Control: HVAC Example"
   ]
  },
  {
   "cell_type": "markdown",
   "id": "f277907e",
   "metadata": {},
   "source": []
  },
  {
   "cell_type": "code",
   "execution_count": 1,
   "id": "48150724",
   "metadata": {},
   "outputs": [],
   "source": [
    "using JuMP\n",
    "using Plasmo\n",
    "using Ipopt\n",
    "using Plots"
   ]
  },
  {
   "cell_type": "code",
   "execution_count": 2,
   "id": "cbaf6bc2",
   "metadata": {},
   "outputs": [
    {
     "data": {
      "text/plain": [
       "getNeighboringRooms (generic function with 1 method)"
      ]
     },
     "execution_count": 2,
     "metadata": {},
     "output_type": "execute_result"
    }
   ],
   "source": [
    "# Get Neighboring Rooms\n",
    "# Assume rooms are in a row\n",
    "\n",
    "# returns a list of vectors where the index of the list is the room and the vectors are the neighboring rooms\n",
    "function getNeighboringRooms(room, nrooms)\n",
    "    if room == 1\n",
    "        return [2,0]\n",
    "    elseif room == nrooms\n",
    "        return [nrooms - 1,0]\n",
    "    else\n",
    "        a = [room - 1,room + 1]\n",
    "        return a\n",
    "    end\n",
    "end\n"
   ]
  },
  {
   "cell_type": "code",
   "execution_count": 3,
   "id": "2cd03f2b",
   "metadata": {},
   "outputs": [
    {
     "data": {
      "text/plain": [
       "1"
      ]
     },
     "execution_count": 3,
     "metadata": {},
     "output_type": "execute_result"
    }
   ],
   "source": [
    "# Thermal Dynamics into and between rooms\n",
    "rho_air = 1.225 # kg/m^3\n",
    "V_room = 50 # m^3\n",
    "\n",
    "Ci = rho_air*V_room # mass of room i kg\n",
    "Ti = 1 # temp of air in room in (K) \n",
    "ui = 1 # mass flowrate of air entering the room kg/s\n",
    "cp = 1012 # heat capacity of air in room (J/kg*K)\n",
    "Ts = 16+273 # temp of supply air (K)\n",
    "Toa = 293 # temp of outside air (K)\n",
    "Rij = 4 # thermal resistance between rooms i and j (K/kW)\n",
    "Rioa = 57 # thermal resistance between room and outside (K/kW)\n",
    "Pid = 1# disturbance term from weather forecast\n",
    "\n",
    "#Ci*(dTi)=dt*(ui*cp*(Ts−Ti)+∑((Tj−Ti)/Rij+(Toa−Ti)/Rioa)+Pid)"
   ]
  },
  {
   "cell_type": "code",
   "execution_count": 41,
   "id": "db3eb067",
   "metadata": {},
   "outputs": [],
   "source": [
    "# function HVAC()\n",
    "# find constraints, objective variables, setpoints,\n",
    "\n",
    "# Constraints:\n",
    "Ti = [293, 297] # K\n",
    "Td = 296 # desired temp of room\n",
    "ui = 1 # must be within [.005, 5] # kg/s\n",
    "\n",
    "# Tuning Parameters\n",
    "c1 = 1\n",
    "c2 = 2\n",
    "\n",
    "# Objective variables\n",
    "# Ti must be within 20 and 24 \n",
    "\n",
    "# function inputs\n",
    "n_rooms = 2\n",
    "N_U = 2 # upper level nodes\n",
    "N_L = 8 # lower level nodes\n",
    "\n",
    "# Sampling periods (hours)\n",
    "dt_U = 1 \n",
    "dt_L = .25\n",
    "\n",
    "# Time Horizons\n",
    "horiz_U = 24 # hours\n",
    "horiz_L = 2 # hours\n",
    "\n",
    "HVAC = Model(Ipopt.Optimizer)\n",
    "graph = OptiGraph()\n",
    "\n",
    "@optinode(graph, Unodes[1:N_U]) # make N_U upper layer nodes\n",
    "@optinode(graph, Lnodes[1:N_L]) # make N_L lower layer nodes\n",
    "\n",
    "# Upper Level Initialization\n",
    "for (i, Unode) in enumerate(Unodes)\n",
    "    \n",
    "    # array belonging to upper layer containing temps of each room in the node\n",
    "    @variable(Unode, T_hat_U_array[1:n_rooms, 1:(floor(Int, (N_L/N_U)))], start = 300)\n",
    "        # row index: room number\n",
    "        # column index: time\n",
    "    \n",
    "    # array belonging to upper layer containing airflowrate into each room\n",
    "    @variable(Unode, u_hat_U_array[1:n_rooms, 1:(floor(Int, (N_L/N_U)))], start = 1)\n",
    "        # row index: room number\n",
    "        # column index: time\n",
    "    @variable(Unode, T_0_array[1:n_rooms, 1:(floor(Int, (N_L/N_U)))], start = 300) # 2x4 array\n",
    "        # row index: room number\n",
    "        # column index: time\n",
    "    @objective(Unode, Min, sum(.01*(T_hat_U_array .- Td).^2 .+ 100*(u_hat_U_array).^2))\n",
    "end\n",
    "\n",
    "# Lower Level Initailization\n",
    "for (i, Lnode) in enumerate(Lnodes)\n",
    "    @variable(Lnode, 293 <= T_hat_L_array[1:n_rooms] <= 297, start = 295) # temp of each room\n",
    "    @variable(Lnode, .005 <= u_hat_L_array[1:n_rooms] <= 5, start = 1) # airflowrate of each room\n",
    "    \n",
    "end\n",
    "\n",
    "# Objective functions\n",
    "\n",
    "\n",
    "# Link Constraints between Unodes\n",
    "for Unode_Index in 1:(length(Unodes) - 1)\n",
    "    for (room_num, T_room_num) in enumerate(Unodes[Unode_Index][:T_hat_U_array][:,1]) # only use temps of rooms at earliest time\n",
    "        if room_num == 1 # if in the first room\n",
    "            Tj = Unodes[Unode_Index][:T_hat_U_array][room_num + 1, 1] # establish neighboring room\n",
    "            @linkconstraint(graph, Unodes[Unode_Index + 1][:T_hat_U_array][room_num] == \n",
    "                dt_U/Ci*(ui*cp*(Ts − T_room_num) + ((Tj − T_room_num)/Rij + (Toa − T_room_num)/Rioa) + Pid) + \n",
    "                (Unodes[Unode_Index][:T_hat_U_array][room_num])) # relationship between room temps\n",
    "            \n",
    "        elseif room_num == n_rooms # if in the last last room\n",
    "            Tj = Unodes[Unode_Index][:T_hat_U_array][room_num - 1, 1]\n",
    "            @linkconstraint(graph, (Unodes[Unode_Index + 1][:T_hat_U_array][room_num]) == \n",
    "                dt_U/Ci*(ui*cp*(Ts − T_room_num) + ((Tj − T_room_num)/Rij + (Toa − T_room_num)/Rioa) + Pid) + \n",
    "                (Unodes[Unode_Index][:T_hat_U_array][room_num])) # relationship between room temps\n",
    "            \n",
    "        else # if in a room surrounded by 2 rooms\n",
    "            Tj1 = Unodes[Unode_Index][:T_hat_U_array][room_num - 1, 1]\n",
    "            Tj2 = Unodes[Unode_Index][:T_hat_U_array][room_num + 1, 1]\n",
    "            @linkconstraint(graph, (Unodes[Unode_Index + 1][:T_hat_U_array][room_num]) == \n",
    "                dt_U/Ci*(ui*cp*(Ts − T_room_num) + ((Tj1 − T_room_num)/Rij + (Tj2 − T_room_num)/Rij + (Toa − T_room_num)/Rioa) + Pid) + \n",
    "                (Unodes[Unode_Index][:T_hat_U_array][room_num])) # relationship between room temps\n",
    "        end\n",
    "    end\n",
    "    @objective(Unodes[Unode_Index], Min, \n",
    "        Unodes[Unode_Index][:T_hat_U_array][1] + \n",
    "        Unodes[Unode_Index][:u_hat_U_array][1] + \n",
    "        Unodes[Unode_Index][:T_hat_U_array][2] +\n",
    "        Unodes[Unode_Index][:u_hat_U_array][2])\n",
    "end\n",
    "\n",
    "\n",
    "\n",
    "# Link Constraints between Unodes and Lnodes\n",
    "for i in range(1,N_U) # loop through each U node\n",
    "    \n",
    "    for j in range(1,floor(Int, N_L/2)) # loop through 4 Lnodes at a time\n",
    "        Lnode_Index = floor(Int, j + N_L*(i - 1)/2)\n",
    "        \n",
    "        #create link constraint between them\n",
    "        for room_index in range(1, n_rooms) # add a link constraint for each room\n",
    "            \n",
    "            # represent the room of the specific Lnode that the Unode i will link to \n",
    "            T_hat_l_room = Lnodes[Lnode_Index][:T_hat_L_array][room_index]\n",
    "            \n",
    "            # represent the upper layer temp solution for the lower layer\n",
    "            T_0 = Unodes[i][:T_0_array][room_index, j]\n",
    "            \n",
    "            @linkconstraint(graph, (T_hat_l_room) == 1/Ci*(ui*cp*(Ts − T_hat_l_room) \n",
    "                + ((T_0 − T_hat_l_room)/Rij + (Toa − T_hat_l_room)/Rioa) + Pid))\n",
    "        end\n",
    "    end\n",
    "end\n",
    "\n",
    "\n",
    "# Link Constraints Between Lnodes\n",
    "for Lnode_Index in 1:(length(Lnodes) - 1) # iterate through all Lnodes except for last\n",
    "    for (room_num, T_room_num) in enumerate(Lnodes[Lnode_Index][:T_hat_L_array]) # iterate through each room\n",
    "        \n",
    "        if room_num == 1 # if in the first room\n",
    "            Tj = Lnodes[Lnode_Index][:T_hat_L_array][room_num + 1] # establish neighboring room\n",
    "            @linkconstraint(graph, Lnodes[Lnode_Index + 1][:T_hat_L_array][room_num] == \n",
    "                dt_L/Ci*(ui*cp*(Ts − T_room_num) + ((Tj − T_room_num)/Rij + (Toa − T_room_num)/Rioa) + Pid) + \n",
    "                (Lnodes[Lnode_Index][:T_hat_L_array][room_num])) # relationship between room temps\n",
    "            \n",
    "        elseif room_num == n_rooms # if in the last last room\n",
    "            Tj = Lnodes[Lnode_Index][:T_hat_L_array][room_num - 1]\n",
    "            @linkconstraint(graph, (Lnodes[Lnode_Index + 1][:T_hat_L_array][room_num]) == \n",
    "                dt_L/Ci*(ui*cp*(Ts − T_room_num) + ((Tj − T_room_num)/Rij + (Toa − T_room_num)/Rioa) + Pid) + \n",
    "                (Lnodes[Lnode_Index][:T_hat_L_array][room_num])) # relationship between room temps\n",
    "            \n",
    "        else # if in a room surrounded by 2 rooms\n",
    "            Tj1 = Lnodes[Lnode_Index][:T_hat_L_array][room_num - 1]\n",
    "            Tj2 = Lnodes[Lnode_Index][:T_hat_L_array][room_num + 1]\n",
    "            @linkconstraint(graph, (Lnodes[Lnode_Index + 1][:T_hat_L_array][room_num]) == \n",
    "                dt_L/Ci*(ui*cp*(Ts − T_room_num) + ((Tj1 − T_room_num)/Rij + (Tj2 − T_room_num)/Rij + (Toa − T_room_num)/Rioa) + Pid) + \n",
    "                (Lnodes[Lnode_Index][:T_hat_L_array][room_num])) # relationship between room temps\n",
    "            \n",
    "        end\n",
    "    end\n",
    "        \n",
    "    @objective(Lnodes[Lnode_Index], Min, \n",
    "        Lnodes[Lnode_Index][:T_hat_L_array][1] + \n",
    "        Lnodes[Lnode_Index][:u_hat_L_array][1] + \n",
    "        Lnodes[Lnode_Index][:T_hat_L_array][2] +\n",
    "        Lnodes[Lnode_Index][:u_hat_L_array][2])\n",
    "end\n",
    "\n",
    "\n",
    "\n"
   ]
  },
  {
   "cell_type": "code",
   "execution_count": 15,
   "id": "3b2e8abd",
   "metadata": {},
   "outputs": [
    {
     "name": "stdout",
     "output_type": "stream",
     "text": [
      "Lnodes[3][:T_hat_L_array[2]]"
     ]
    }
   ],
   "source": []
  },
  {
   "cell_type": "code",
   "execution_count": 34,
   "id": "4a4b16be",
   "metadata": {},
   "outputs": [
    {
     "name": "stdout",
     "output_type": "stream",
     "text": [
      "VariableRef[Unodes[1][:T_hat_U_array[1,1]], Unodes[1][:T_hat_U_array[2,1]]]"
     ]
    }
   ],
   "source": []
  },
  {
   "cell_type": "code",
   "execution_count": 37,
   "id": "22e2bf5a",
   "metadata": {},
   "outputs": [
    {
     "name": "stdout",
     "output_type": "stream",
     "text": [
      "1"
     ]
    }
   ],
   "source": []
  },
  {
   "cell_type": "code",
   "execution_count": null,
   "id": "272adc2d",
   "metadata": {},
   "outputs": [],
   "source": []
  },
  {
   "cell_type": "code",
   "execution_count": null,
   "id": "c0ba7541",
   "metadata": {},
   "outputs": [],
   "source": []
  },
  {
   "cell_type": "code",
   "execution_count": null,
   "id": "77b51308",
   "metadata": {},
   "outputs": [],
   "source": []
  },
  {
   "cell_type": "code",
   "execution_count": null,
   "id": "6fad2dee",
   "metadata": {},
   "outputs": [],
   "source": []
  }
 ],
 "metadata": {
  "kernelspec": {
   "display_name": "Julia 1.9.2",
   "language": "julia",
   "name": "julia-1.9"
  },
  "language_info": {
   "file_extension": ".jl",
   "mimetype": "application/julia",
   "name": "julia",
   "version": "1.9.2"
  }
 },
 "nbformat": 4,
 "nbformat_minor": 5
}
